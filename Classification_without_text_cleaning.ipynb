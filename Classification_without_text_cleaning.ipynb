{
  "cells": [
    {
      "cell_type": "code",
      "execution_count": 1,
      "id": "13e28186",
      "metadata": {
        "id": "13e28186"
      },
      "outputs": [],
      "source": [
        "import tweepy  \n",
        "import pandas as pd\n",
        "import re  \n",
        "#import jsonpickle \n",
        "import string \n",
        "import matplotlib.pyplot as plt"
      ]
    },
    {
      "cell_type": "code",
      "execution_count": 2,
      "id": "b7c331b1",
      "metadata": {
        "colab": {
          "base_uri": "https://localhost:8080/",
          "height": 206
        },
        "id": "b7c331b1",
        "outputId": "6037f010-b3b7-4850-89d9-8cf603dafd51"
      },
      "outputs": [
        {
          "output_type": "execute_result",
          "data": {
            "text/html": [
              "\n",
              "  <div id=\"df-c4d65820-65a5-4cd7-a001-d45e6cd2dbbc\">\n",
              "    <div class=\"colab-df-container\">\n",
              "      <div>\n",
              "<style scoped>\n",
              "    .dataframe tbody tr th:only-of-type {\n",
              "        vertical-align: middle;\n",
              "    }\n",
              "\n",
              "    .dataframe tbody tr th {\n",
              "        vertical-align: top;\n",
              "    }\n",
              "\n",
              "    .dataframe thead th {\n",
              "        text-align: right;\n",
              "    }\n",
              "</style>\n",
              "<table border=\"1\" class=\"dataframe\">\n",
              "  <thead>\n",
              "    <tr style=\"text-align: right;\">\n",
              "      <th></th>\n",
              "      <th>id</th>\n",
              "      <th>label</th>\n",
              "      <th>text</th>\n",
              "    </tr>\n",
              "  </thead>\n",
              "  <tbody>\n",
              "    <tr>\n",
              "      <th>0</th>\n",
              "      <td>1234837799045562370</td>\n",
              "      <td>-1</td>\n",
              "      <td>RT @makkahregion: في حال كان القادم مواطناً لإ...</td>\n",
              "    </tr>\n",
              "    <tr>\n",
              "      <th>1</th>\n",
              "      <td>1234837796248002560</td>\n",
              "      <td>0</td>\n",
              "      <td>RT @AlAjmyAhmad: #اللهم إنّا نستودعك بلاد الحر...</td>\n",
              "    </tr>\n",
              "    <tr>\n",
              "      <th>2</th>\n",
              "      <td>1234837793152667648</td>\n",
              "      <td>0</td>\n",
              "      <td>RT @NadaBassiouny7: فيروس كورونا ؛ عدد الوفيات...</td>\n",
              "    </tr>\n",
              "    <tr>\n",
              "      <th>3</th>\n",
              "      <td>1234837791588089856</td>\n",
              "      <td>0</td>\n",
              "      <td>وزيره الصحة هتقعد في الصين شوية ياريت اما ترجع...</td>\n",
              "    </tr>\n",
              "    <tr>\n",
              "      <th>4</th>\n",
              "      <td>1234837787913969669</td>\n",
              "      <td>-1</td>\n",
              "      <td>RT @makkahregion: في حال كان الراغب في دخول ال...</td>\n",
              "    </tr>\n",
              "  </tbody>\n",
              "</table>\n",
              "</div>\n",
              "      <button class=\"colab-df-convert\" onclick=\"convertToInteractive('df-c4d65820-65a5-4cd7-a001-d45e6cd2dbbc')\"\n",
              "              title=\"Convert this dataframe to an interactive table.\"\n",
              "              style=\"display:none;\">\n",
              "        \n",
              "  <svg xmlns=\"http://www.w3.org/2000/svg\" height=\"24px\"viewBox=\"0 0 24 24\"\n",
              "       width=\"24px\">\n",
              "    <path d=\"M0 0h24v24H0V0z\" fill=\"none\"/>\n",
              "    <path d=\"M18.56 5.44l.94 2.06.94-2.06 2.06-.94-2.06-.94-.94-2.06-.94 2.06-2.06.94zm-11 1L8.5 8.5l.94-2.06 2.06-.94-2.06-.94L8.5 2.5l-.94 2.06-2.06.94zm10 10l.94 2.06.94-2.06 2.06-.94-2.06-.94-.94-2.06-.94 2.06-2.06.94z\"/><path d=\"M17.41 7.96l-1.37-1.37c-.4-.4-.92-.59-1.43-.59-.52 0-1.04.2-1.43.59L10.3 9.45l-7.72 7.72c-.78.78-.78 2.05 0 2.83L4 21.41c.39.39.9.59 1.41.59.51 0 1.02-.2 1.41-.59l7.78-7.78 2.81-2.81c.8-.78.8-2.07 0-2.86zM5.41 20L4 18.59l7.72-7.72 1.47 1.35L5.41 20z\"/>\n",
              "  </svg>\n",
              "      </button>\n",
              "      \n",
              "  <style>\n",
              "    .colab-df-container {\n",
              "      display:flex;\n",
              "      flex-wrap:wrap;\n",
              "      gap: 12px;\n",
              "    }\n",
              "\n",
              "    .colab-df-convert {\n",
              "      background-color: #E8F0FE;\n",
              "      border: none;\n",
              "      border-radius: 50%;\n",
              "      cursor: pointer;\n",
              "      display: none;\n",
              "      fill: #1967D2;\n",
              "      height: 32px;\n",
              "      padding: 0 0 0 0;\n",
              "      width: 32px;\n",
              "    }\n",
              "\n",
              "    .colab-df-convert:hover {\n",
              "      background-color: #E2EBFA;\n",
              "      box-shadow: 0px 1px 2px rgba(60, 64, 67, 0.3), 0px 1px 3px 1px rgba(60, 64, 67, 0.15);\n",
              "      fill: #174EA6;\n",
              "    }\n",
              "\n",
              "    [theme=dark] .colab-df-convert {\n",
              "      background-color: #3B4455;\n",
              "      fill: #D2E3FC;\n",
              "    }\n",
              "\n",
              "    [theme=dark] .colab-df-convert:hover {\n",
              "      background-color: #434B5C;\n",
              "      box-shadow: 0px 1px 3px 1px rgba(0, 0, 0, 0.15);\n",
              "      filter: drop-shadow(0px 1px 2px rgba(0, 0, 0, 0.3));\n",
              "      fill: #FFFFFF;\n",
              "    }\n",
              "  </style>\n",
              "\n",
              "      <script>\n",
              "        const buttonEl =\n",
              "          document.querySelector('#df-c4d65820-65a5-4cd7-a001-d45e6cd2dbbc button.colab-df-convert');\n",
              "        buttonEl.style.display =\n",
              "          google.colab.kernel.accessAllowed ? 'block' : 'none';\n",
              "\n",
              "        async function convertToInteractive(key) {\n",
              "          const element = document.querySelector('#df-c4d65820-65a5-4cd7-a001-d45e6cd2dbbc');\n",
              "          const dataTable =\n",
              "            await google.colab.kernel.invokeFunction('convertToInteractive',\n",
              "                                                     [key], {});\n",
              "          if (!dataTable) return;\n",
              "\n",
              "          const docLinkHtml = 'Like what you see? Visit the ' +\n",
              "            '<a target=\"_blank\" href=https://colab.research.google.com/notebooks/data_table.ipynb>data table notebook</a>'\n",
              "            + ' to learn more about interactive tables.';\n",
              "          element.innerHTML = '';\n",
              "          dataTable['output_type'] = 'display_data';\n",
              "          await google.colab.output.renderOutput(dataTable, element);\n",
              "          const docLink = document.createElement('div');\n",
              "          docLink.innerHTML = docLinkHtml;\n",
              "          element.appendChild(docLink);\n",
              "        }\n",
              "      </script>\n",
              "    </div>\n",
              "  </div>\n",
              "  "
            ],
            "text/plain": [
              "                    id label                                               text\n",
              "0  1234837799045562370    -1  RT @makkahregion: في حال كان القادم مواطناً لإ...\n",
              "1  1234837796248002560     0  RT @AlAjmyAhmad: #اللهم إنّا نستودعك بلاد الحر...\n",
              "2  1234837793152667648     0  RT @NadaBassiouny7: فيروس كورونا ؛ عدد الوفيات...\n",
              "3  1234837791588089856     0  وزيره الصحة هتقعد في الصين شوية ياريت اما ترجع...\n",
              "4  1234837787913969669    -1  RT @makkahregion: في حال كان الراغب في دخول ال..."
            ]
          },
          "metadata": {},
          "execution_count": 2
        }
      ],
      "source": [
        "df = pd.read_pickle(\"dataset.pkl\")\n",
        "df.head()"
      ]
    },
    {
      "cell_type": "code",
      "execution_count": 3,
      "id": "893f6f79",
      "metadata": {
        "colab": {
          "base_uri": "https://localhost:8080/"
        },
        "id": "893f6f79",
        "outputId": "764d8e4e-87ee-4059-fc57-ee9ac5023046"
      },
      "outputs": [
        {
          "output_type": "execute_result",
          "data": {
            "text/plain": [
              "(1489, 2000)"
            ]
          },
          "metadata": {},
          "execution_count": 3
        }
      ],
      "source": [
        "df_new = pd.read_csv(\"newdatasett2.csv\")\n",
        "len(df),len(df_new)"
      ]
    },
    {
      "cell_type": "code",
      "execution_count": 4,
      "id": "d8fa36b1",
      "metadata": {
        "id": "d8fa36b1"
      },
      "outputs": [],
      "source": [
        "df_new = df_new[['text', 'label']]"
      ]
    },
    {
      "cell_type": "code",
      "execution_count": 5,
      "id": "83b72042",
      "metadata": {
        "colab": {
          "base_uri": "https://localhost:8080/"
        },
        "id": "83b72042",
        "outputId": "ce0cb720-4eb4-4666-92c9-0fc8bec33014"
      },
      "outputs": [
        {
          "output_type": "execute_result",
          "data": {
            "text/plain": [
              "TRUE     742\n",
              "Not      516\n",
              "FALSE    143\n",
              "Name: label, dtype: int64"
            ]
          },
          "metadata": {},
          "execution_count": 5
        }
      ],
      "source": [
        "df_new['label'].value_counts()"
      ]
    },
    {
      "cell_type": "code",
      "execution_count": 6,
      "id": "f18a93d3",
      "metadata": {
        "id": "f18a93d3"
      },
      "outputs": [],
      "source": [
        "df_new = df_new[df_new['label'] == 'FALSE']"
      ]
    },
    {
      "cell_type": "code",
      "execution_count": 7,
      "id": "8eb199e7",
      "metadata": {
        "id": "8eb199e7"
      },
      "outputs": [],
      "source": [
        "df = df[['text', 'label']]"
      ]
    },
    {
      "cell_type": "code",
      "execution_count": 8,
      "id": "ce582083",
      "metadata": {
        "colab": {
          "base_uri": "https://localhost:8080/"
        },
        "id": "ce582083",
        "outputId": "b620161a-2aab-4317-da50-c82dc1b7550e"
      },
      "outputs": [
        {
          "output_type": "execute_result",
          "data": {
            "text/plain": [
              "-1    687\n",
              "0     576\n",
              "1     226\n",
              "Name: label, dtype: int64"
            ]
          },
          "metadata": {},
          "execution_count": 8
        }
      ],
      "source": [
        "df['label'].value_counts()"
      ]
    },
    {
      "cell_type": "code",
      "execution_count": 9,
      "id": "cd9a9dc4",
      "metadata": {
        "id": "cd9a9dc4"
      },
      "outputs": [],
      "source": [
        "df_new['sen_class'] = df_new['label'].map({'FALSE': '1'})"
      ]
    },
    {
      "cell_type": "code",
      "execution_count": 10,
      "id": "7f65ccf9",
      "metadata": {
        "colab": {
          "base_uri": "https://localhost:8080/",
          "height": 206
        },
        "id": "7f65ccf9",
        "outputId": "fddf16c2-a8bd-4637-8fa2-af3be01dd3a8"
      },
      "outputs": [
        {
          "output_type": "execute_result",
          "data": {
            "text/html": [
              "\n",
              "  <div id=\"df-bf00846a-e15c-477c-b3ab-d7ecbfc981b5\">\n",
              "    <div class=\"colab-df-container\">\n",
              "      <div>\n",
              "<style scoped>\n",
              "    .dataframe tbody tr th:only-of-type {\n",
              "        vertical-align: middle;\n",
              "    }\n",
              "\n",
              "    .dataframe tbody tr th {\n",
              "        vertical-align: top;\n",
              "    }\n",
              "\n",
              "    .dataframe thead th {\n",
              "        text-align: right;\n",
              "    }\n",
              "</style>\n",
              "<table border=\"1\" class=\"dataframe\">\n",
              "  <thead>\n",
              "    <tr style=\"text-align: right;\">\n",
              "      <th></th>\n",
              "      <th>text</th>\n",
              "      <th>label</th>\n",
              "      <th>sen_class</th>\n",
              "    </tr>\n",
              "  </thead>\n",
              "  <tbody>\n",
              "    <tr>\n",
              "      <th>8</th>\n",
              "      <td>RT @24IN2MIN: أخبار الصحة في دقيقتين: 💉 \"أسترا...</td>\n",
              "      <td>FALSE</td>\n",
              "      <td>1</td>\n",
              "    </tr>\n",
              "    <tr>\n",
              "      <th>9</th>\n",
              "      <td>RT @24IN2MIN: أخبار الصحة في دقيقتين: 💉 \"أسترا...</td>\n",
              "      <td>FALSE</td>\n",
              "      <td>1</td>\n",
              "    </tr>\n",
              "    <tr>\n",
              "      <th>10</th>\n",
              "      <td>RT @24IN2MIN: أخبار الصحة في دقيقتين: 💉 \"أسترا...</td>\n",
              "      <td>FALSE</td>\n",
              "      <td>1</td>\n",
              "    </tr>\n",
              "    <tr>\n",
              "      <th>126</th>\n",
              "      <td>أخبار الصحة في دقيقتين: 💉 \"أسترازينيكا\"  تعلن ...</td>\n",
              "      <td>FALSE</td>\n",
              "      <td>1</td>\n",
              "    </tr>\n",
              "    <tr>\n",
              "      <th>136</th>\n",
              "      <td>RT @karim_a84: د. عبدالله السند:  🔹بدأ التسجيل...</td>\n",
              "      <td>FALSE</td>\n",
              "      <td>1</td>\n",
              "    </tr>\n",
              "  </tbody>\n",
              "</table>\n",
              "</div>\n",
              "      <button class=\"colab-df-convert\" onclick=\"convertToInteractive('df-bf00846a-e15c-477c-b3ab-d7ecbfc981b5')\"\n",
              "              title=\"Convert this dataframe to an interactive table.\"\n",
              "              style=\"display:none;\">\n",
              "        \n",
              "  <svg xmlns=\"http://www.w3.org/2000/svg\" height=\"24px\"viewBox=\"0 0 24 24\"\n",
              "       width=\"24px\">\n",
              "    <path d=\"M0 0h24v24H0V0z\" fill=\"none\"/>\n",
              "    <path d=\"M18.56 5.44l.94 2.06.94-2.06 2.06-.94-2.06-.94-.94-2.06-.94 2.06-2.06.94zm-11 1L8.5 8.5l.94-2.06 2.06-.94-2.06-.94L8.5 2.5l-.94 2.06-2.06.94zm10 10l.94 2.06.94-2.06 2.06-.94-2.06-.94-.94-2.06-.94 2.06-2.06.94z\"/><path d=\"M17.41 7.96l-1.37-1.37c-.4-.4-.92-.59-1.43-.59-.52 0-1.04.2-1.43.59L10.3 9.45l-7.72 7.72c-.78.78-.78 2.05 0 2.83L4 21.41c.39.39.9.59 1.41.59.51 0 1.02-.2 1.41-.59l7.78-7.78 2.81-2.81c.8-.78.8-2.07 0-2.86zM5.41 20L4 18.59l7.72-7.72 1.47 1.35L5.41 20z\"/>\n",
              "  </svg>\n",
              "      </button>\n",
              "      \n",
              "  <style>\n",
              "    .colab-df-container {\n",
              "      display:flex;\n",
              "      flex-wrap:wrap;\n",
              "      gap: 12px;\n",
              "    }\n",
              "\n",
              "    .colab-df-convert {\n",
              "      background-color: #E8F0FE;\n",
              "      border: none;\n",
              "      border-radius: 50%;\n",
              "      cursor: pointer;\n",
              "      display: none;\n",
              "      fill: #1967D2;\n",
              "      height: 32px;\n",
              "      padding: 0 0 0 0;\n",
              "      width: 32px;\n",
              "    }\n",
              "\n",
              "    .colab-df-convert:hover {\n",
              "      background-color: #E2EBFA;\n",
              "      box-shadow: 0px 1px 2px rgba(60, 64, 67, 0.3), 0px 1px 3px 1px rgba(60, 64, 67, 0.15);\n",
              "      fill: #174EA6;\n",
              "    }\n",
              "\n",
              "    [theme=dark] .colab-df-convert {\n",
              "      background-color: #3B4455;\n",
              "      fill: #D2E3FC;\n",
              "    }\n",
              "\n",
              "    [theme=dark] .colab-df-convert:hover {\n",
              "      background-color: #434B5C;\n",
              "      box-shadow: 0px 1px 3px 1px rgba(0, 0, 0, 0.15);\n",
              "      filter: drop-shadow(0px 1px 2px rgba(0, 0, 0, 0.3));\n",
              "      fill: #FFFFFF;\n",
              "    }\n",
              "  </style>\n",
              "\n",
              "      <script>\n",
              "        const buttonEl =\n",
              "          document.querySelector('#df-bf00846a-e15c-477c-b3ab-d7ecbfc981b5 button.colab-df-convert');\n",
              "        buttonEl.style.display =\n",
              "          google.colab.kernel.accessAllowed ? 'block' : 'none';\n",
              "\n",
              "        async function convertToInteractive(key) {\n",
              "          const element = document.querySelector('#df-bf00846a-e15c-477c-b3ab-d7ecbfc981b5');\n",
              "          const dataTable =\n",
              "            await google.colab.kernel.invokeFunction('convertToInteractive',\n",
              "                                                     [key], {});\n",
              "          if (!dataTable) return;\n",
              "\n",
              "          const docLinkHtml = 'Like what you see? Visit the ' +\n",
              "            '<a target=\"_blank\" href=https://colab.research.google.com/notebooks/data_table.ipynb>data table notebook</a>'\n",
              "            + ' to learn more about interactive tables.';\n",
              "          element.innerHTML = '';\n",
              "          dataTable['output_type'] = 'display_data';\n",
              "          await google.colab.output.renderOutput(dataTable, element);\n",
              "          const docLink = document.createElement('div');\n",
              "          docLink.innerHTML = docLinkHtml;\n",
              "          element.appendChild(docLink);\n",
              "        }\n",
              "      </script>\n",
              "    </div>\n",
              "  </div>\n",
              "  "
            ],
            "text/plain": [
              "                                                  text  label sen_class\n",
              "8    RT @24IN2MIN: أخبار الصحة في دقيقتين: 💉 \"أسترا...  FALSE         1\n",
              "9    RT @24IN2MIN: أخبار الصحة في دقيقتين: 💉 \"أسترا...  FALSE         1\n",
              "10   RT @24IN2MIN: أخبار الصحة في دقيقتين: 💉 \"أسترا...  FALSE         1\n",
              "126  أخبار الصحة في دقيقتين: 💉 \"أسترازينيكا\"  تعلن ...  FALSE         1\n",
              "136  RT @karim_a84: د. عبدالله السند:  🔹بدأ التسجيل...  FALSE         1"
            ]
          },
          "metadata": {},
          "execution_count": 10
        }
      ],
      "source": [
        "df_new.head()"
      ]
    },
    {
      "cell_type": "code",
      "execution_count": 11,
      "id": "6897c972",
      "metadata": {
        "id": "6897c972"
      },
      "outputs": [],
      "source": [
        "df_new = df_new.dropna()[['text', 'sen_class']]"
      ]
    },
    {
      "cell_type": "code",
      "execution_count": 12,
      "id": "1c4ee740",
      "metadata": {
        "id": "1c4ee740"
      },
      "outputs": [],
      "source": [
        "df_new = df_new[['text', 'sen_class']]"
      ]
    },
    {
      "cell_type": "code",
      "execution_count": 13,
      "id": "ae3c46d4",
      "metadata": {
        "id": "ae3c46d4"
      },
      "outputs": [],
      "source": [
        "df['sen_class'] = df['label']"
      ]
    },
    {
      "cell_type": "code",
      "execution_count": 14,
      "id": "71bb9303",
      "metadata": {
        "id": "71bb9303"
      },
      "outputs": [],
      "source": [
        "df = df[['text', 'sen_class']]"
      ]
    },
    {
      "cell_type": "code",
      "execution_count": 15,
      "id": "a2532a57",
      "metadata": {
        "id": "a2532a57"
      },
      "outputs": [],
      "source": [
        "df = df.dropna()[['text', 'sen_class']]"
      ]
    },
    {
      "cell_type": "code",
      "execution_count": 16,
      "id": "041eb450",
      "metadata": {
        "id": "041eb450"
      },
      "outputs": [],
      "source": [
        "final_df =  pd.concat([df,df_new])"
      ]
    },
    {
      "cell_type": "code",
      "execution_count": 17,
      "id": "55b71d49",
      "metadata": {
        "colab": {
          "base_uri": "https://localhost:8080/"
        },
        "id": "55b71d49",
        "outputId": "d09fb5c2-f4f9-4200-833b-e35059a00c2f"
      },
      "outputs": [
        {
          "output_type": "execute_result",
          "data": {
            "text/plain": [
              "(1632, 2)"
            ]
          },
          "metadata": {},
          "execution_count": 17
        }
      ],
      "source": [
        "final_df.shape"
      ]
    },
    {
      "cell_type": "code",
      "execution_count": 18,
      "id": "7df12b1e",
      "metadata": {
        "colab": {
          "base_uri": "https://localhost:8080/",
          "height": 206
        },
        "id": "7df12b1e",
        "outputId": "4d017335-03a1-4340-8700-326e788c146f"
      },
      "outputs": [
        {
          "output_type": "execute_result",
          "data": {
            "text/html": [
              "\n",
              "  <div id=\"df-e21e0d37-c5af-4ca1-baf1-97783b0704ad\">\n",
              "    <div class=\"colab-df-container\">\n",
              "      <div>\n",
              "<style scoped>\n",
              "    .dataframe tbody tr th:only-of-type {\n",
              "        vertical-align: middle;\n",
              "    }\n",
              "\n",
              "    .dataframe tbody tr th {\n",
              "        vertical-align: top;\n",
              "    }\n",
              "\n",
              "    .dataframe thead th {\n",
              "        text-align: right;\n",
              "    }\n",
              "</style>\n",
              "<table border=\"1\" class=\"dataframe\">\n",
              "  <thead>\n",
              "    <tr style=\"text-align: right;\">\n",
              "      <th></th>\n",
              "      <th>text</th>\n",
              "      <th>sen_class</th>\n",
              "    </tr>\n",
              "  </thead>\n",
              "  <tbody>\n",
              "    <tr>\n",
              "      <th>0</th>\n",
              "      <td>RT @makkahregion: في حال كان القادم مواطناً لإ...</td>\n",
              "      <td>-1</td>\n",
              "    </tr>\n",
              "    <tr>\n",
              "      <th>1</th>\n",
              "      <td>RT @AlAjmyAhmad: #اللهم إنّا نستودعك بلاد الحر...</td>\n",
              "      <td>0</td>\n",
              "    </tr>\n",
              "    <tr>\n",
              "      <th>2</th>\n",
              "      <td>RT @NadaBassiouny7: فيروس كورونا ؛ عدد الوفيات...</td>\n",
              "      <td>0</td>\n",
              "    </tr>\n",
              "    <tr>\n",
              "      <th>3</th>\n",
              "      <td>وزيره الصحة هتقعد في الصين شوية ياريت اما ترجع...</td>\n",
              "      <td>0</td>\n",
              "    </tr>\n",
              "    <tr>\n",
              "      <th>4</th>\n",
              "      <td>RT @makkahregion: في حال كان الراغب في دخول ال...</td>\n",
              "      <td>-1</td>\n",
              "    </tr>\n",
              "  </tbody>\n",
              "</table>\n",
              "</div>\n",
              "      <button class=\"colab-df-convert\" onclick=\"convertToInteractive('df-e21e0d37-c5af-4ca1-baf1-97783b0704ad')\"\n",
              "              title=\"Convert this dataframe to an interactive table.\"\n",
              "              style=\"display:none;\">\n",
              "        \n",
              "  <svg xmlns=\"http://www.w3.org/2000/svg\" height=\"24px\"viewBox=\"0 0 24 24\"\n",
              "       width=\"24px\">\n",
              "    <path d=\"M0 0h24v24H0V0z\" fill=\"none\"/>\n",
              "    <path d=\"M18.56 5.44l.94 2.06.94-2.06 2.06-.94-2.06-.94-.94-2.06-.94 2.06-2.06.94zm-11 1L8.5 8.5l.94-2.06 2.06-.94-2.06-.94L8.5 2.5l-.94 2.06-2.06.94zm10 10l.94 2.06.94-2.06 2.06-.94-2.06-.94-.94-2.06-.94 2.06-2.06.94z\"/><path d=\"M17.41 7.96l-1.37-1.37c-.4-.4-.92-.59-1.43-.59-.52 0-1.04.2-1.43.59L10.3 9.45l-7.72 7.72c-.78.78-.78 2.05 0 2.83L4 21.41c.39.39.9.59 1.41.59.51 0 1.02-.2 1.41-.59l7.78-7.78 2.81-2.81c.8-.78.8-2.07 0-2.86zM5.41 20L4 18.59l7.72-7.72 1.47 1.35L5.41 20z\"/>\n",
              "  </svg>\n",
              "      </button>\n",
              "      \n",
              "  <style>\n",
              "    .colab-df-container {\n",
              "      display:flex;\n",
              "      flex-wrap:wrap;\n",
              "      gap: 12px;\n",
              "    }\n",
              "\n",
              "    .colab-df-convert {\n",
              "      background-color: #E8F0FE;\n",
              "      border: none;\n",
              "      border-radius: 50%;\n",
              "      cursor: pointer;\n",
              "      display: none;\n",
              "      fill: #1967D2;\n",
              "      height: 32px;\n",
              "      padding: 0 0 0 0;\n",
              "      width: 32px;\n",
              "    }\n",
              "\n",
              "    .colab-df-convert:hover {\n",
              "      background-color: #E2EBFA;\n",
              "      box-shadow: 0px 1px 2px rgba(60, 64, 67, 0.3), 0px 1px 3px 1px rgba(60, 64, 67, 0.15);\n",
              "      fill: #174EA6;\n",
              "    }\n",
              "\n",
              "    [theme=dark] .colab-df-convert {\n",
              "      background-color: #3B4455;\n",
              "      fill: #D2E3FC;\n",
              "    }\n",
              "\n",
              "    [theme=dark] .colab-df-convert:hover {\n",
              "      background-color: #434B5C;\n",
              "      box-shadow: 0px 1px 3px 1px rgba(0, 0, 0, 0.15);\n",
              "      filter: drop-shadow(0px 1px 2px rgba(0, 0, 0, 0.3));\n",
              "      fill: #FFFFFF;\n",
              "    }\n",
              "  </style>\n",
              "\n",
              "      <script>\n",
              "        const buttonEl =\n",
              "          document.querySelector('#df-e21e0d37-c5af-4ca1-baf1-97783b0704ad button.colab-df-convert');\n",
              "        buttonEl.style.display =\n",
              "          google.colab.kernel.accessAllowed ? 'block' : 'none';\n",
              "\n",
              "        async function convertToInteractive(key) {\n",
              "          const element = document.querySelector('#df-e21e0d37-c5af-4ca1-baf1-97783b0704ad');\n",
              "          const dataTable =\n",
              "            await google.colab.kernel.invokeFunction('convertToInteractive',\n",
              "                                                     [key], {});\n",
              "          if (!dataTable) return;\n",
              "\n",
              "          const docLinkHtml = 'Like what you see? Visit the ' +\n",
              "            '<a target=\"_blank\" href=https://colab.research.google.com/notebooks/data_table.ipynb>data table notebook</a>'\n",
              "            + ' to learn more about interactive tables.';\n",
              "          element.innerHTML = '';\n",
              "          dataTable['output_type'] = 'display_data';\n",
              "          await google.colab.output.renderOutput(dataTable, element);\n",
              "          const docLink = document.createElement('div');\n",
              "          docLink.innerHTML = docLinkHtml;\n",
              "          element.appendChild(docLink);\n",
              "        }\n",
              "      </script>\n",
              "    </div>\n",
              "  </div>\n",
              "  "
            ],
            "text/plain": [
              "                                                text sen_class\n",
              "0  RT @makkahregion: في حال كان القادم مواطناً لإ...        -1\n",
              "1  RT @AlAjmyAhmad: #اللهم إنّا نستودعك بلاد الحر...         0\n",
              "2  RT @NadaBassiouny7: فيروس كورونا ؛ عدد الوفيات...         0\n",
              "3  وزيره الصحة هتقعد في الصين شوية ياريت اما ترجع...         0\n",
              "4  RT @makkahregion: في حال كان الراغب في دخول ال...        -1"
            ]
          },
          "metadata": {},
          "execution_count": 18
        }
      ],
      "source": [
        "final_df.head()"
      ]
    },
    {
      "cell_type": "code",
      "execution_count": 19,
      "id": "b4156a9a",
      "metadata": {
        "colab": {
          "base_uri": "https://localhost:8080/"
        },
        "id": "b4156a9a",
        "outputId": "b2dd2f0b-fe51-4cef-d451-13255ae873bf"
      },
      "outputs": [
        {
          "output_type": "execute_result",
          "data": {
            "text/plain": [
              "-1    687\n",
              "0     576\n",
              "1     369\n",
              "Name: sen_class, dtype: int64"
            ]
          },
          "metadata": {},
          "execution_count": 19
        }
      ],
      "source": [
        "final_df['sen_class'].value_counts()"
      ]
    },
    {
      "cell_type": "code",
      "execution_count": 20,
      "id": "ae41b2b6",
      "metadata": {
        "id": "ae41b2b6"
      },
      "outputs": [],
      "source": [
        "final_df['sen_class'] = final_df['sen_class'].map({'1': 'fake','0': 'unrelated','-1': 'true'})"
      ]
    },
    {
      "cell_type": "code",
      "execution_count": 21,
      "id": "127f6b32",
      "metadata": {
        "colab": {
          "base_uri": "https://localhost:8080/"
        },
        "id": "127f6b32",
        "outputId": "97744811-03ab-474e-fb32-280a46aea5b4"
      },
      "outputs": [
        {
          "output_type": "execute_result",
          "data": {
            "text/plain": [
              "true         687\n",
              "unrelated    576\n",
              "fake         369\n",
              "Name: sen_class, dtype: int64"
            ]
          },
          "metadata": {},
          "execution_count": 21
        }
      ],
      "source": [
        "final_df['sen_class'].value_counts()"
      ]
    },
    {
      "cell_type": "code",
      "execution_count": 22,
      "id": "d3eabea2",
      "metadata": {
        "colab": {
          "base_uri": "https://localhost:8080/"
        },
        "id": "d3eabea2",
        "outputId": "21c39fb5-e470-411c-a6e4-b40b9556c7da"
      },
      "outputs": [
        {
          "output_type": "stream",
          "name": "stdout",
          "text": [
            "tweets Dataset:\t (1632, 2)\n",
            "Class true:\t (687, 2)\n",
            "Class unrelated:\t (576, 2)\n",
            "Class fake:\t (369, 2)\n"
          ]
        }
      ],
      "source": [
        "print('tweets Dataset:\\t', final_df.shape)\n",
        "for cls in ['true', 'unrelated', 'fake']:\n",
        "    print(f'Class {cls}:\\t', final_df[final_df.sen_class == cls].shape)"
      ]
    },
    {
      "cell_type": "code",
      "execution_count": 24,
      "id": "bd61089a",
      "metadata": {
        "id": "bd61089a"
      },
      "outputs": [],
      "source": [
        "df = final_df.copy()"
      ]
    },
    {
      "cell_type": "code",
      "execution_count": 25,
      "id": "8d10f4ea",
      "metadata": {
        "id": "8d10f4ea"
      },
      "outputs": [],
      "source": [
        "df = df[df['text'].notnull()]"
      ]
    },
    {
      "cell_type": "code",
      "execution_count": 26,
      "id": "3e1a85b1",
      "metadata": {
        "id": "3e1a85b1"
      },
      "outputs": [],
      "source": [
        "df.reset_index(drop=True, inplace=True)"
      ]
    },
    {
      "cell_type": "code",
      "execution_count": 27,
      "id": "15def1e9",
      "metadata": {
        "colab": {
          "base_uri": "https://localhost:8080/",
          "height": 206
        },
        "id": "15def1e9",
        "outputId": "e4441eab-cd13-4d25-b06b-0664bbc29c57"
      },
      "outputs": [
        {
          "output_type": "execute_result",
          "data": {
            "text/html": [
              "\n",
              "  <div id=\"df-256aa21a-e7c5-447c-ba6c-b26eb548b952\">\n",
              "    <div class=\"colab-df-container\">\n",
              "      <div>\n",
              "<style scoped>\n",
              "    .dataframe tbody tr th:only-of-type {\n",
              "        vertical-align: middle;\n",
              "    }\n",
              "\n",
              "    .dataframe tbody tr th {\n",
              "        vertical-align: top;\n",
              "    }\n",
              "\n",
              "    .dataframe thead th {\n",
              "        text-align: right;\n",
              "    }\n",
              "</style>\n",
              "<table border=\"1\" class=\"dataframe\">\n",
              "  <thead>\n",
              "    <tr style=\"text-align: right;\">\n",
              "      <th></th>\n",
              "      <th>text</th>\n",
              "      <th>sen_class</th>\n",
              "    </tr>\n",
              "  </thead>\n",
              "  <tbody>\n",
              "    <tr>\n",
              "      <th>0</th>\n",
              "      <td>RT @makkahregion: في حال كان القادم مواطناً لإ...</td>\n",
              "      <td>true</td>\n",
              "    </tr>\n",
              "    <tr>\n",
              "      <th>1</th>\n",
              "      <td>RT @AlAjmyAhmad: #اللهم إنّا نستودعك بلاد الحر...</td>\n",
              "      <td>unrelated</td>\n",
              "    </tr>\n",
              "    <tr>\n",
              "      <th>2</th>\n",
              "      <td>RT @NadaBassiouny7: فيروس كورونا ؛ عدد الوفيات...</td>\n",
              "      <td>unrelated</td>\n",
              "    </tr>\n",
              "    <tr>\n",
              "      <th>3</th>\n",
              "      <td>وزيره الصحة هتقعد في الصين شوية ياريت اما ترجع...</td>\n",
              "      <td>unrelated</td>\n",
              "    </tr>\n",
              "    <tr>\n",
              "      <th>4</th>\n",
              "      <td>RT @makkahregion: في حال كان الراغب في دخول ال...</td>\n",
              "      <td>true</td>\n",
              "    </tr>\n",
              "  </tbody>\n",
              "</table>\n",
              "</div>\n",
              "      <button class=\"colab-df-convert\" onclick=\"convertToInteractive('df-256aa21a-e7c5-447c-ba6c-b26eb548b952')\"\n",
              "              title=\"Convert this dataframe to an interactive table.\"\n",
              "              style=\"display:none;\">\n",
              "        \n",
              "  <svg xmlns=\"http://www.w3.org/2000/svg\" height=\"24px\"viewBox=\"0 0 24 24\"\n",
              "       width=\"24px\">\n",
              "    <path d=\"M0 0h24v24H0V0z\" fill=\"none\"/>\n",
              "    <path d=\"M18.56 5.44l.94 2.06.94-2.06 2.06-.94-2.06-.94-.94-2.06-.94 2.06-2.06.94zm-11 1L8.5 8.5l.94-2.06 2.06-.94-2.06-.94L8.5 2.5l-.94 2.06-2.06.94zm10 10l.94 2.06.94-2.06 2.06-.94-2.06-.94-.94-2.06-.94 2.06-2.06.94z\"/><path d=\"M17.41 7.96l-1.37-1.37c-.4-.4-.92-.59-1.43-.59-.52 0-1.04.2-1.43.59L10.3 9.45l-7.72 7.72c-.78.78-.78 2.05 0 2.83L4 21.41c.39.39.9.59 1.41.59.51 0 1.02-.2 1.41-.59l7.78-7.78 2.81-2.81c.8-.78.8-2.07 0-2.86zM5.41 20L4 18.59l7.72-7.72 1.47 1.35L5.41 20z\"/>\n",
              "  </svg>\n",
              "      </button>\n",
              "      \n",
              "  <style>\n",
              "    .colab-df-container {\n",
              "      display:flex;\n",
              "      flex-wrap:wrap;\n",
              "      gap: 12px;\n",
              "    }\n",
              "\n",
              "    .colab-df-convert {\n",
              "      background-color: #E8F0FE;\n",
              "      border: none;\n",
              "      border-radius: 50%;\n",
              "      cursor: pointer;\n",
              "      display: none;\n",
              "      fill: #1967D2;\n",
              "      height: 32px;\n",
              "      padding: 0 0 0 0;\n",
              "      width: 32px;\n",
              "    }\n",
              "\n",
              "    .colab-df-convert:hover {\n",
              "      background-color: #E2EBFA;\n",
              "      box-shadow: 0px 1px 2px rgba(60, 64, 67, 0.3), 0px 1px 3px 1px rgba(60, 64, 67, 0.15);\n",
              "      fill: #174EA6;\n",
              "    }\n",
              "\n",
              "    [theme=dark] .colab-df-convert {\n",
              "      background-color: #3B4455;\n",
              "      fill: #D2E3FC;\n",
              "    }\n",
              "\n",
              "    [theme=dark] .colab-df-convert:hover {\n",
              "      background-color: #434B5C;\n",
              "      box-shadow: 0px 1px 3px 1px rgba(0, 0, 0, 0.15);\n",
              "      filter: drop-shadow(0px 1px 2px rgba(0, 0, 0, 0.3));\n",
              "      fill: #FFFFFF;\n",
              "    }\n",
              "  </style>\n",
              "\n",
              "      <script>\n",
              "        const buttonEl =\n",
              "          document.querySelector('#df-256aa21a-e7c5-447c-ba6c-b26eb548b952 button.colab-df-convert');\n",
              "        buttonEl.style.display =\n",
              "          google.colab.kernel.accessAllowed ? 'block' : 'none';\n",
              "\n",
              "        async function convertToInteractive(key) {\n",
              "          const element = document.querySelector('#df-256aa21a-e7c5-447c-ba6c-b26eb548b952');\n",
              "          const dataTable =\n",
              "            await google.colab.kernel.invokeFunction('convertToInteractive',\n",
              "                                                     [key], {});\n",
              "          if (!dataTable) return;\n",
              "\n",
              "          const docLinkHtml = 'Like what you see? Visit the ' +\n",
              "            '<a target=\"_blank\" href=https://colab.research.google.com/notebooks/data_table.ipynb>data table notebook</a>'\n",
              "            + ' to learn more about interactive tables.';\n",
              "          element.innerHTML = '';\n",
              "          dataTable['output_type'] = 'display_data';\n",
              "          await google.colab.output.renderOutput(dataTable, element);\n",
              "          const docLink = document.createElement('div');\n",
              "          docLink.innerHTML = docLinkHtml;\n",
              "          element.appendChild(docLink);\n",
              "        }\n",
              "      </script>\n",
              "    </div>\n",
              "  </div>\n",
              "  "
            ],
            "text/plain": [
              "                                                text  sen_class\n",
              "0  RT @makkahregion: في حال كان القادم مواطناً لإ...       true\n",
              "1  RT @AlAjmyAhmad: #اللهم إنّا نستودعك بلاد الحر...  unrelated\n",
              "2  RT @NadaBassiouny7: فيروس كورونا ؛ عدد الوفيات...  unrelated\n",
              "3  وزيره الصحة هتقعد في الصين شوية ياريت اما ترجع...  unrelated\n",
              "4  RT @makkahregion: في حال كان الراغب في دخول ال...       true"
            ]
          },
          "metadata": {},
          "execution_count": 27
        }
      ],
      "source": [
        "df.head()"
      ]
    },
    {
      "cell_type": "markdown",
      "id": "16542953",
      "metadata": {
        "id": "16542953"
      },
      "source": [
        "## training step"
      ]
    },
    {
      "cell_type": "code",
      "execution_count": 28,
      "id": "1b44f3a1",
      "metadata": {
        "id": "1b44f3a1"
      },
      "outputs": [],
      "source": [
        "from sklearn.feature_extraction.text import CountVectorizer, TfidfVectorizer # two vectorization methods we want for later\n",
        "from sklearn.model_selection import train_test_split # this splits the data loaded in into training & testing groups\n",
        "from sklearn import metrics # this will help us understand the results of the train/test split simulation"
      ]
    },
    {
      "cell_type": "code",
      "execution_count": 29,
      "id": "a75a0314",
      "metadata": {
        "id": "a75a0314"
      },
      "outputs": [],
      "source": [
        "df['label'] =df['sen_class']\n",
        "df = df[['text','label']]\n",
        "\n",
        "X = df['text'].values\n",
        "y = df['label'].values\n",
        "\n",
        "# split the new DataFrame into training and testing sets\n",
        "\n",
        "X_train, X_test, y_train, y_test = train_test_split(X, y, test_size=0.20,random_state=1, stratify = df.label)"
      ]
    },
    {
      "cell_type": "code",
      "execution_count": 30,
      "id": "044c95fc",
      "metadata": {
        "colab": {
          "base_uri": "https://localhost:8080/"
        },
        "id": "044c95fc",
        "outputId": "6e7ba1a4-f570-4d41-98e1-5ee6224deca9"
      },
      "outputs": [
        {
          "output_type": "execute_result",
          "data": {
            "text/plain": [
              "(1305,)"
            ]
          },
          "metadata": {},
          "execution_count": 30
        }
      ],
      "source": [
        "X_train.shape"
      ]
    },
    {
      "cell_type": "code",
      "execution_count": 31,
      "id": "46ddc591",
      "metadata": {
        "id": "46ddc591"
      },
      "outputs": [],
      "source": [
        "# define a function that accepts a vectorizer and calculates the accuracy\n",
        "from sklearn.metrics import classification_report, confusion_matrix\n",
        "from sklearn.tree import DecisionTreeClassifier\n",
        "from sklearn.neighbors import KNeighborsClassifier\n",
        "from sklearn.naive_bayes import MultinomialNB # multinomial naive bayes classifier\n",
        "from sklearn.linear_model import LogisticRegression # basic logistic regression classifier\n",
        "\n",
        "from sklearn.svm import SVC\n",
        "\n",
        "lr = LogisticRegression()\n",
        "nb = MultinomialNB()\n",
        "dt = DecisionTreeClassifier()\n",
        "knn = KNeighborsClassifier()\n",
        "svm = SVC()\n",
        "def tokenize_test(vect, model):\n",
        "    X_train_dtm = vect.fit_transform(X_train)\n",
        "    print('Features: ', X_train_dtm.shape[1])\n",
        "    X_test_dtm = vect.transform(X_test)\n",
        "    if model == 'lr':\n",
        "        lr.fit(X_train_dtm, y_train)\n",
        "        y_pred_class = lr.predict(X_test_dtm)\n",
        "        algorithm = 'Logistic Regression'\n",
        "    elif model == 'nb':\n",
        "        nb.fit(X_train_dtm, y_train)\n",
        "        y_pred_class = nb.predict(X_test_dtm)\n",
        "        algorithm = 'Multinomial Naive Bayes'\n",
        "    elif model == 'dt':\n",
        "        dt.fit(X_train_dtm, y_train)\n",
        "        y_pred_class = dt.predict(X_test_dtm)\n",
        "        algorithm = 'Decision Tree'\n",
        "    elif model == 'knn':\n",
        "        knn.fit(X_train_dtm, y_train)\n",
        "        y_pred_class = knn.predict(X_test_dtm)\n",
        "        algorithm = 'K Neighbors'\n",
        "    elif model == 'svm':\n",
        "        svm.fit(X_train_dtm, y_train)\n",
        "        y_pred_class = svm.predict(X_test_dtm)\n",
        "        algorithm = 'SVM'\n",
        "    print('Accuracy: ', metrics.accuracy_score(y_test, y_pred_class))\n",
        "    print(confusion_matrix(y_test,y_pred_class))\n",
        "    print(classification_report(y_test, y_pred_class))\n",
        "    print(algorithm)\n",
        "        "
      ]
    },
    {
      "cell_type": "code",
      "execution_count": 32,
      "id": "712e24a4",
      "metadata": {
        "colab": {
          "base_uri": "https://localhost:8080/"
        },
        "id": "712e24a4",
        "outputId": "4eb50332-d21d-4668-dd84-508f88741762"
      },
      "outputs": [
        {
          "output_type": "stream",
          "name": "stdout",
          "text": [
            "Features:  8537\n",
            "Accuracy:  0.8532110091743119\n",
            "[[ 58   6  10]\n",
            " [  3 122  13]\n",
            " [  6  10  99]]\n",
            "              precision    recall  f1-score   support\n",
            "\n",
            "        fake       0.87      0.78      0.82        74\n",
            "        true       0.88      0.88      0.88       138\n",
            "   unrelated       0.81      0.86      0.84       115\n",
            "\n",
            "    accuracy                           0.85       327\n",
            "   macro avg       0.85      0.84      0.85       327\n",
            "weighted avg       0.85      0.85      0.85       327\n",
            "\n",
            "Logistic Regression\n"
          ]
        }
      ],
      "source": [
        "vect = CountVectorizer()\n",
        "tokenize_test(vect, model='lr')"
      ]
    },
    {
      "cell_type": "code",
      "execution_count": 33,
      "id": "6231e2c6",
      "metadata": {
        "colab": {
          "base_uri": "https://localhost:8080/"
        },
        "id": "6231e2c6",
        "outputId": "2fe12ff7-eacc-47f8-faed-6ff71332ea83"
      },
      "outputs": [
        {
          "output_type": "stream",
          "name": "stdout",
          "text": [
            "Features:  25679\n",
            "Accuracy:  0.8654434250764526\n",
            "[[ 58   6  10]\n",
            " [  2 121  15]\n",
            " [  4   7 104]]\n",
            "              precision    recall  f1-score   support\n",
            "\n",
            "        fake       0.91      0.78      0.84        74\n",
            "        true       0.90      0.88      0.89       138\n",
            "   unrelated       0.81      0.90      0.85       115\n",
            "\n",
            "    accuracy                           0.87       327\n",
            "   macro avg       0.87      0.85      0.86       327\n",
            "weighted avg       0.87      0.87      0.87       327\n",
            "\n",
            "Logistic Regression\n"
          ]
        }
      ],
      "source": [
        "# include 1-grams and 2-grams\n",
        "\n",
        "vect = CountVectorizer(ngram_range=(1, 2))\n",
        "tokenize_test(vect, model='lr')"
      ]
    },
    {
      "cell_type": "code",
      "execution_count": 34,
      "id": "c8d31eed",
      "metadata": {
        "colab": {
          "base_uri": "https://localhost:8080/"
        },
        "id": "c8d31eed",
        "outputId": "ff6c62ba-10cd-47cc-e439-4db0e3cac112"
      },
      "outputs": [
        {
          "output_type": "stream",
          "name": "stdout",
          "text": [
            "Features:  8537\n",
            "Accuracy:  0.8103975535168195\n",
            "[[ 51  16   7]\n",
            " [  1 130   7]\n",
            " [  3  28  84]]\n",
            "              precision    recall  f1-score   support\n",
            "\n",
            "        fake       0.93      0.69      0.79        74\n",
            "        true       0.75      0.94      0.83       138\n",
            "   unrelated       0.86      0.73      0.79       115\n",
            "\n",
            "    accuracy                           0.81       327\n",
            "   macro avg       0.84      0.79      0.80       327\n",
            "weighted avg       0.83      0.81      0.81       327\n",
            "\n",
            "Multinomial Naive Bayes\n"
          ]
        }
      ],
      "source": [
        "vect = CountVectorizer()\n",
        "tokenize_test(vect, model='nb')"
      ]
    },
    {
      "cell_type": "code",
      "execution_count": 35,
      "id": "0f12aeed",
      "metadata": {
        "colab": {
          "base_uri": "https://localhost:8080/"
        },
        "id": "0f12aeed",
        "outputId": "6e122827-606f-41d2-fec1-de590ebb41fb"
      },
      "outputs": [
        {
          "output_type": "stream",
          "name": "stdout",
          "text": [
            "Features:  25679\n",
            "Accuracy:  0.8134556574923547\n",
            "[[ 52  16   6]\n",
            " [  1 132   5]\n",
            " [  2  31  82]]\n",
            "              precision    recall  f1-score   support\n",
            "\n",
            "        fake       0.95      0.70      0.81        74\n",
            "        true       0.74      0.96      0.83       138\n",
            "   unrelated       0.88      0.71      0.79       115\n",
            "\n",
            "    accuracy                           0.81       327\n",
            "   macro avg       0.85      0.79      0.81       327\n",
            "weighted avg       0.84      0.81      0.81       327\n",
            "\n",
            "Multinomial Naive Bayes\n"
          ]
        }
      ],
      "source": [
        "# include 1-grams, 2-grams, \n",
        "vect = CountVectorizer(ngram_range=(1, 2))\n",
        "tokenize_test(vect, model='nb')"
      ]
    },
    {
      "cell_type": "code",
      "execution_count": 36,
      "id": "cd8a3842",
      "metadata": {
        "colab": {
          "base_uri": "https://localhost:8080/"
        },
        "id": "cd8a3842",
        "outputId": "6b118b29-f0c9-4b2a-de3c-8bc4b4b9f228"
      },
      "outputs": [
        {
          "output_type": "stream",
          "name": "stdout",
          "text": [
            "Features:  8537\n",
            "Accuracy:  0.7859327217125383\n",
            "[[ 52  11  11]\n",
            " [  8 112  18]\n",
            " [  5  17  93]]\n",
            "              precision    recall  f1-score   support\n",
            "\n",
            "        fake       0.80      0.70      0.75        74\n",
            "        true       0.80      0.81      0.81       138\n",
            "   unrelated       0.76      0.81      0.78       115\n",
            "\n",
            "    accuracy                           0.79       327\n",
            "   macro avg       0.79      0.77      0.78       327\n",
            "weighted avg       0.79      0.79      0.79       327\n",
            "\n",
            "Decision Tree\n"
          ]
        }
      ],
      "source": [
        "vect = CountVectorizer()\n",
        "tokenize_test(vect, model='dt')"
      ]
    },
    {
      "cell_type": "code",
      "execution_count": 37,
      "id": "a04cde7d",
      "metadata": {
        "colab": {
          "base_uri": "https://localhost:8080/"
        },
        "id": "a04cde7d",
        "outputId": "08c37f45-688e-489a-defd-b979e6d6e966"
      },
      "outputs": [
        {
          "output_type": "stream",
          "name": "stdout",
          "text": [
            "Features:  25679\n",
            "Accuracy:  0.7584097859327217\n",
            "[[ 55   8  11]\n",
            " [ 11 105  22]\n",
            " [ 10  17  88]]\n",
            "              precision    recall  f1-score   support\n",
            "\n",
            "        fake       0.72      0.74      0.73        74\n",
            "        true       0.81      0.76      0.78       138\n",
            "   unrelated       0.73      0.77      0.75       115\n",
            "\n",
            "    accuracy                           0.76       327\n",
            "   macro avg       0.75      0.76      0.75       327\n",
            "weighted avg       0.76      0.76      0.76       327\n",
            "\n",
            "Decision Tree\n"
          ]
        }
      ],
      "source": [
        "# include 1-grams and 2-grams\n",
        "\n",
        "vect = CountVectorizer(ngram_range=(1, 2))\n",
        "tokenize_test(vect, model='dt')"
      ]
    },
    {
      "cell_type": "code",
      "execution_count": 38,
      "id": "dba788a7",
      "metadata": {
        "colab": {
          "base_uri": "https://localhost:8080/"
        },
        "id": "dba788a7",
        "outputId": "5d2d351d-e23d-40c6-c0b7-2dce195fe4ed"
      },
      "outputs": [
        {
          "output_type": "stream",
          "name": "stdout",
          "text": [
            "Features:  8537\n",
            "Accuracy:  0.6085626911314985\n",
            "[[58  8  8]\n",
            " [30 86 22]\n",
            " [29 31 55]]\n",
            "              precision    recall  f1-score   support\n",
            "\n",
            "        fake       0.50      0.78      0.61        74\n",
            "        true       0.69      0.62      0.65       138\n",
            "   unrelated       0.65      0.48      0.55       115\n",
            "\n",
            "    accuracy                           0.61       327\n",
            "   macro avg       0.61      0.63      0.60       327\n",
            "weighted avg       0.63      0.61      0.61       327\n",
            "\n",
            "K Neighbors\n"
          ]
        }
      ],
      "source": [
        "vect = CountVectorizer()\n",
        "tokenize_test(vect, model='knn')"
      ]
    },
    {
      "cell_type": "code",
      "execution_count": 39,
      "id": "39ca6c00",
      "metadata": {
        "colab": {
          "base_uri": "https://localhost:8080/"
        },
        "id": "39ca6c00",
        "outputId": "96cea3fb-7b1e-408e-dacf-653dd2831191"
      },
      "outputs": [
        {
          "output_type": "stream",
          "name": "stdout",
          "text": [
            "Features:  25679\n",
            "Accuracy:  0.599388379204893\n",
            "[[50  9 15]\n",
            " [20 81 37]\n",
            " [17 33 65]]\n",
            "              precision    recall  f1-score   support\n",
            "\n",
            "        fake       0.57      0.68      0.62        74\n",
            "        true       0.66      0.59      0.62       138\n",
            "   unrelated       0.56      0.57      0.56       115\n",
            "\n",
            "    accuracy                           0.60       327\n",
            "   macro avg       0.60      0.61      0.60       327\n",
            "weighted avg       0.60      0.60      0.60       327\n",
            "\n",
            "K Neighbors\n"
          ]
        }
      ],
      "source": [
        "# include 1-grams and 2-grams\n",
        "\n",
        "vect = CountVectorizer(ngram_range=(1, 2))\n",
        "tokenize_test(vect, model='knn')"
      ]
    },
    {
      "cell_type": "code",
      "execution_count": 40,
      "id": "66aadb59",
      "metadata": {
        "colab": {
          "base_uri": "https://localhost:8080/"
        },
        "id": "66aadb59",
        "outputId": "f30569fd-ab6d-4ec8-e14a-6ef79fb08fa1"
      },
      "outputs": [
        {
          "output_type": "stream",
          "name": "stdout",
          "text": [
            "Features:  8537\n",
            "Accuracy:  0.8165137614678899\n",
            "[[ 54  11   9]\n",
            " [  3 125  10]\n",
            " [  3  24  88]]\n",
            "              precision    recall  f1-score   support\n",
            "\n",
            "        fake       0.90      0.73      0.81        74\n",
            "        true       0.78      0.91      0.84       138\n",
            "   unrelated       0.82      0.77      0.79       115\n",
            "\n",
            "    accuracy                           0.82       327\n",
            "   macro avg       0.83      0.80      0.81       327\n",
            "weighted avg       0.82      0.82      0.82       327\n",
            "\n",
            "SVM\n"
          ]
        }
      ],
      "source": [
        "vect = CountVectorizer()\n",
        "tokenize_test(vect, model='svm')"
      ]
    },
    {
      "cell_type": "code",
      "execution_count": 41,
      "id": "756a5cdb",
      "metadata": {
        "colab": {
          "base_uri": "https://localhost:8080/"
        },
        "id": "756a5cdb",
        "outputId": "46b88513-5c2c-4577-d996-ec3b3082b147"
      },
      "outputs": [
        {
          "output_type": "stream",
          "name": "stdout",
          "text": [
            "Features:  25679\n",
            "Accuracy:  0.8042813455657493\n",
            "[[ 53  14   7]\n",
            " [  3 127   8]\n",
            " [  2  30  83]]\n",
            "              precision    recall  f1-score   support\n",
            "\n",
            "        fake       0.91      0.72      0.80        74\n",
            "        true       0.74      0.92      0.82       138\n",
            "   unrelated       0.85      0.72      0.78       115\n",
            "\n",
            "    accuracy                           0.80       327\n",
            "   macro avg       0.83      0.79      0.80       327\n",
            "weighted avg       0.82      0.80      0.80       327\n",
            "\n",
            "SVM\n"
          ]
        }
      ],
      "source": [
        "# include 1-grams and 2-grams\n",
        "\n",
        "vect = CountVectorizer(ngram_range=(1, 2))\n",
        "tokenize_test(vect, model='svm')"
      ]
    },
    {
      "cell_type": "markdown",
      "id": "cdf04c7f",
      "metadata": {
        "id": "cdf04c7f"
      },
      "source": [
        "## TF-IDF"
      ]
    },
    {
      "cell_type": "code",
      "execution_count": 42,
      "id": "31853f27",
      "metadata": {
        "colab": {
          "base_uri": "https://localhost:8080/"
        },
        "id": "31853f27",
        "outputId": "a47b2415-f2d1-47bd-9a81-6bafa617dac4"
      },
      "outputs": [
        {
          "output_type": "stream",
          "name": "stdout",
          "text": [
            "Features:  8537\n",
            "Accuracy:  0.8195718654434251\n",
            "[[ 50  13  11]\n",
            " [  0 128  10]\n",
            " [  3  22  90]]\n",
            "              precision    recall  f1-score   support\n",
            "\n",
            "        fake       0.94      0.68      0.79        74\n",
            "        true       0.79      0.93      0.85       138\n",
            "   unrelated       0.81      0.78      0.80       115\n",
            "\n",
            "    accuracy                           0.82       327\n",
            "   macro avg       0.85      0.80      0.81       327\n",
            "weighted avg       0.83      0.82      0.82       327\n",
            "\n",
            "Logistic Regression\n"
          ]
        }
      ],
      "source": [
        "vect = TfidfVectorizer()\n",
        "tokenize_test(vect, model='lr')\n"
      ]
    },
    {
      "cell_type": "code",
      "execution_count": 43,
      "id": "18e7dcbc",
      "metadata": {
        "colab": {
          "base_uri": "https://localhost:8080/"
        },
        "id": "18e7dcbc",
        "outputId": "d1c18742-da66-4c6a-f909-e204057287c7"
      },
      "outputs": [
        {
          "output_type": "stream",
          "name": "stdout",
          "text": [
            "Features:  25679\n",
            "Accuracy:  0.8134556574923547\n",
            "[[ 48  17   9]\n",
            " [  2 129   7]\n",
            " [  1  25  89]]\n",
            "              precision    recall  f1-score   support\n",
            "\n",
            "        fake       0.94      0.65      0.77        74\n",
            "        true       0.75      0.93      0.83       138\n",
            "   unrelated       0.85      0.77      0.81       115\n",
            "\n",
            "    accuracy                           0.81       327\n",
            "   macro avg       0.85      0.79      0.80       327\n",
            "weighted avg       0.83      0.81      0.81       327\n",
            "\n",
            "Logistic Regression\n"
          ]
        }
      ],
      "source": [
        "# include 1-grams and 2-grams\n",
        "\n",
        "vect = TfidfVectorizer(ngram_range=(1, 2))\n",
        "tokenize_test(vect, model='lr')"
      ]
    },
    {
      "cell_type": "code",
      "execution_count": 44,
      "id": "49d22b4c",
      "metadata": {
        "colab": {
          "base_uri": "https://localhost:8080/"
        },
        "id": "49d22b4c",
        "outputId": "748ce000-1249-46b5-b106-bef6163292f3"
      },
      "outputs": [
        {
          "output_type": "stream",
          "name": "stdout",
          "text": [
            "Features:  8537\n",
            "Accuracy:  0.7614678899082569\n",
            "[[ 44  27   3]\n",
            " [  0 134   4]\n",
            " [  1  43  71]]\n",
            "              precision    recall  f1-score   support\n",
            "\n",
            "        fake       0.98      0.59      0.74        74\n",
            "        true       0.66      0.97      0.78       138\n",
            "   unrelated       0.91      0.62      0.74       115\n",
            "\n",
            "    accuracy                           0.76       327\n",
            "   macro avg       0.85      0.73      0.75       327\n",
            "weighted avg       0.82      0.76      0.76       327\n",
            "\n",
            "Multinomial Naive Bayes\n"
          ]
        }
      ],
      "source": [
        "vect = TfidfVectorizer()\n",
        "tokenize_test(vect, model='nb')"
      ]
    },
    {
      "cell_type": "code",
      "execution_count": 45,
      "id": "c0fc8501",
      "metadata": {
        "colab": {
          "base_uri": "https://localhost:8080/"
        },
        "id": "c0fc8501",
        "outputId": "a3e4861b-6bdb-40fa-f3a2-ea5b118e6530"
      },
      "outputs": [
        {
          "output_type": "stream",
          "name": "stdout",
          "text": [
            "Features:  25679\n",
            "Accuracy:  0.7553516819571865\n",
            "[[ 44  28   2]\n",
            " [  0 136   2]\n",
            " [  1  47  67]]\n",
            "              precision    recall  f1-score   support\n",
            "\n",
            "        fake       0.98      0.59      0.74        74\n",
            "        true       0.64      0.99      0.78       138\n",
            "   unrelated       0.94      0.58      0.72       115\n",
            "\n",
            "    accuracy                           0.76       327\n",
            "   macro avg       0.86      0.72      0.75       327\n",
            "weighted avg       0.83      0.76      0.75       327\n",
            "\n",
            "Multinomial Naive Bayes\n"
          ]
        }
      ],
      "source": [
        "# include 1-grams, 2-grams, \n",
        "vect = TfidfVectorizer(ngram_range=(1, 2))\n",
        "tokenize_test(vect, model='nb')"
      ]
    },
    {
      "cell_type": "code",
      "execution_count": 46,
      "id": "51eb6dfe",
      "metadata": {
        "colab": {
          "base_uri": "https://localhost:8080/"
        },
        "id": "51eb6dfe",
        "outputId": "b82699b0-af96-4712-f77f-c9de783e482f"
      },
      "outputs": [
        {
          "output_type": "stream",
          "name": "stdout",
          "text": [
            "Features:  8537\n",
            "Accuracy:  0.6666666666666666\n",
            "[[ 51  17   6]\n",
            " [ 11 117  10]\n",
            " [  6  59  50]]\n",
            "              precision    recall  f1-score   support\n",
            "\n",
            "        fake       0.75      0.69      0.72        74\n",
            "        true       0.61      0.85      0.71       138\n",
            "   unrelated       0.76      0.43      0.55       115\n",
            "\n",
            "    accuracy                           0.67       327\n",
            "   macro avg       0.70      0.66      0.66       327\n",
            "weighted avg       0.69      0.67      0.66       327\n",
            "\n",
            "Decision Tree\n"
          ]
        }
      ],
      "source": [
        "vect = TfidfVectorizer()\n",
        "tokenize_test(vect, model='dt')"
      ]
    },
    {
      "cell_type": "code",
      "execution_count": 47,
      "id": "12bf40c1",
      "metadata": {
        "colab": {
          "base_uri": "https://localhost:8080/"
        },
        "id": "12bf40c1",
        "outputId": "cab3da25-dcdf-4650-b0e3-40097a0cc326"
      },
      "outputs": [
        {
          "output_type": "stream",
          "name": "stdout",
          "text": [
            "Features:  25679\n",
            "Accuracy:  0.7033639143730887\n",
            "[[ 57  14   3]\n",
            " [ 14 110  14]\n",
            " [  9  43  63]]\n",
            "              precision    recall  f1-score   support\n",
            "\n",
            "        fake       0.71      0.77      0.74        74\n",
            "        true       0.66      0.80      0.72       138\n",
            "   unrelated       0.79      0.55      0.65       115\n",
            "\n",
            "    accuracy                           0.70       327\n",
            "   macro avg       0.72      0.71      0.70       327\n",
            "weighted avg       0.72      0.70      0.70       327\n",
            "\n",
            "Decision Tree\n"
          ]
        }
      ],
      "source": [
        "# include 1-grams and 2-grams\n",
        "\n",
        "vect = TfidfVectorizer(ngram_range=(1, 2))\n",
        "tokenize_test(vect, model='dt')"
      ]
    },
    {
      "cell_type": "code",
      "execution_count": 48,
      "id": "b46cafea",
      "metadata": {
        "colab": {
          "base_uri": "https://localhost:8080/"
        },
        "id": "b46cafea",
        "outputId": "3bac55ab-fb12-4c9a-9c44-fd74abb19278"
      },
      "outputs": [
        {
          "output_type": "stream",
          "name": "stdout",
          "text": [
            "Features:  8537\n",
            "Accuracy:  0.746177370030581\n",
            "[[ 52  17   5]\n",
            " [  7 125   6]\n",
            " [ 19  29  67]]\n",
            "              precision    recall  f1-score   support\n",
            "\n",
            "        fake       0.67      0.70      0.68        74\n",
            "        true       0.73      0.91      0.81       138\n",
            "   unrelated       0.86      0.58      0.69       115\n",
            "\n",
            "    accuracy                           0.75       327\n",
            "   macro avg       0.75      0.73      0.73       327\n",
            "weighted avg       0.76      0.75      0.74       327\n",
            "\n",
            "K Neighbors\n"
          ]
        }
      ],
      "source": [
        "vect = TfidfVectorizer()\n",
        "tokenize_test(vect, model='knn')"
      ]
    },
    {
      "cell_type": "code",
      "execution_count": 49,
      "id": "dafca0ff",
      "metadata": {
        "colab": {
          "base_uri": "https://localhost:8080/"
        },
        "id": "dafca0ff",
        "outputId": "18f3a155-3bf6-4a20-b07b-a9361b45fe59"
      },
      "outputs": [
        {
          "output_type": "stream",
          "name": "stdout",
          "text": [
            "Features:  25679\n",
            "Accuracy:  0.7737003058103975\n",
            "[[ 53  17   4]\n",
            " [  7 125   6]\n",
            " [ 12  28  75]]\n",
            "              precision    recall  f1-score   support\n",
            "\n",
            "        fake       0.74      0.72      0.73        74\n",
            "        true       0.74      0.91      0.81       138\n",
            "   unrelated       0.88      0.65      0.75       115\n",
            "\n",
            "    accuracy                           0.77       327\n",
            "   macro avg       0.78      0.76      0.76       327\n",
            "weighted avg       0.79      0.77      0.77       327\n",
            "\n",
            "K Neighbors\n"
          ]
        }
      ],
      "source": [
        "# include 1-grams and 2-grams\n",
        "\n",
        "vect = TfidfVectorizer(ngram_range=(1, 2))\n",
        "tokenize_test(vect, model='knn')"
      ]
    },
    {
      "cell_type": "code",
      "execution_count": 50,
      "id": "6ca08dde",
      "metadata": {
        "colab": {
          "base_uri": "https://localhost:8080/"
        },
        "id": "6ca08dde",
        "outputId": "7ee0b9f1-b6eb-437c-903b-3f0a11b27158"
      },
      "outputs": [
        {
          "output_type": "stream",
          "name": "stdout",
          "text": [
            "Features:  8537\n",
            "Accuracy:  0.8287461773700305\n",
            "[[ 48  14  12]\n",
            " [  0 127  11]\n",
            " [  0  19  96]]\n",
            "              precision    recall  f1-score   support\n",
            "\n",
            "        fake       1.00      0.65      0.79        74\n",
            "        true       0.79      0.92      0.85       138\n",
            "   unrelated       0.81      0.83      0.82       115\n",
            "\n",
            "    accuracy                           0.83       327\n",
            "   macro avg       0.87      0.80      0.82       327\n",
            "weighted avg       0.84      0.83      0.83       327\n",
            "\n",
            "SVM\n"
          ]
        }
      ],
      "source": [
        "vect = TfidfVectorizer()\n",
        "tokenize_test(vect, model='svm')"
      ]
    },
    {
      "cell_type": "code",
      "execution_count": 51,
      "id": "e1480c08",
      "metadata": {
        "colab": {
          "base_uri": "https://localhost:8080/"
        },
        "id": "e1480c08",
        "outputId": "ca497489-797d-4961-ab10-ca5a38c37db2"
      },
      "outputs": [
        {
          "output_type": "stream",
          "name": "stdout",
          "text": [
            "Features:  25679\n",
            "Accuracy:  0.8226299694189603\n",
            "[[ 45  18  11]\n",
            " [  0 128  10]\n",
            " [  0  19  96]]\n",
            "              precision    recall  f1-score   support\n",
            "\n",
            "        fake       1.00      0.61      0.76        74\n",
            "        true       0.78      0.93      0.84       138\n",
            "   unrelated       0.82      0.83      0.83       115\n",
            "\n",
            "    accuracy                           0.82       327\n",
            "   macro avg       0.87      0.79      0.81       327\n",
            "weighted avg       0.84      0.82      0.82       327\n",
            "\n",
            "SVM\n"
          ]
        }
      ],
      "source": [
        "\n",
        "# include 1-grams and 2-grams\n",
        "\n",
        "vect = TfidfVectorizer(ngram_range=(1, 2))\n",
        "tokenize_test(vect, model='svm')"
      ]
    },
    {
      "cell_type": "markdown",
      "id": "cae22c30",
      "metadata": {
        "id": "cae22c30"
      },
      "source": [
        "## Deep Learning"
      ]
    },
    {
      "cell_type": "code",
      "execution_count": 52,
      "id": "b65c6c02",
      "metadata": {
        "id": "b65c6c02"
      },
      "outputs": [],
      "source": [
        "from sklearn.feature_extraction.text import CountVectorizer\n",
        "from sklearn.model_selection import train_test_split\n",
        "from sklearn.linear_model import LogisticRegression\n",
        "from sklearn.preprocessing import LabelEncoder\n",
        "from sklearn.preprocessing import OneHotEncoder\n",
        "from sklearn.model_selection import RandomizedSearchCV\n",
        "\n",
        "from keras.models import Sequential\n",
        "from keras import layers\n",
        "from keras.preprocessing.text import Tokenizer\n",
        "from keras.preprocessing.sequence import pad_sequences\n",
        "from keras.wrappers.scikit_learn import KerasClassifier"
      ]
    },
    {
      "cell_type": "code",
      "source": [
        "df['label'] = df['label'].astype('str').values\n",
        "df['label'] = df['label'].astype('category').values\n",
        "df['label'] = df['label'].cat.codes\n",
        "df['label'].value_counts()\n"
      ],
      "metadata": {
        "colab": {
          "base_uri": "https://localhost:8080/"
        },
        "id": "5M6cbqnoJZ3U",
        "outputId": "abf1bd38-e37e-4a55-c1f2-077071163faf"
      },
      "id": "5M6cbqnoJZ3U",
      "execution_count": 53,
      "outputs": [
        {
          "output_type": "execute_result",
          "data": {
            "text/plain": [
              "1    687\n",
              "2    576\n",
              "0    369\n",
              "Name: label, dtype: int64"
            ]
          },
          "metadata": {},
          "execution_count": 53
        }
      ]
    },
    {
      "cell_type": "code",
      "source": [
        "X = df['text'].values\n",
        "y = df['label'].values\n",
        "\n",
        "# split the new DataFrame into training and testing sets\n",
        "\n",
        "X_train, X_test, y_train, y_test = train_test_split(X, y, test_size=0.20,random_state=1, stratify = df.label)"
      ],
      "metadata": {
        "id": "bDiWJc2zJgCM"
      },
      "id": "bDiWJc2zJgCM",
      "execution_count": 54,
      "outputs": []
    },
    {
      "cell_type": "code",
      "execution_count": 55,
      "id": "100511b1",
      "metadata": {
        "id": "100511b1"
      },
      "outputs": [],
      "source": [
        "from keras.preprocessing.text import Tokenizer\n",
        "\n",
        "tokenizer = Tokenizer(num_words=5000)\n",
        "#tokenizer = Tokenizer(num_words=500)\n",
        "\n",
        "tokenizer.fit_on_texts(X_train)\n",
        "\n",
        "X_train_sequences = tokenizer.texts_to_sequences(X_train)\n",
        "X_test_sequences = tokenizer.texts_to_sequences(X_test)"
      ]
    },
    {
      "cell_type": "code",
      "execution_count": 56,
      "id": "8abb47fb",
      "metadata": {
        "colab": {
          "base_uri": "https://localhost:8080/"
        },
        "id": "8abb47fb",
        "outputId": "98004d17-d0bb-424a-956c-dcc59d01e04a"
      },
      "outputs": [
        {
          "output_type": "stream",
          "name": "stdout",
          "text": [
            "[3, 401, 2698, 26, 2699, 2700, 110, 2, 17, 2701, 1523, 125, 2702, 472, 110, 2703, 2704, 7, 118, 1044, 640, 2705, 225, 2706]\n",
            "RT @Dr_AlShahoumi: مع الضجيج الحاصل بسبب كورونا و التصفيق العالي الذي ناله البعض بسبب قيامه بواجبه في هذه الازمه \n",
            "\n",
            "ومع انشغال الجميع  \n",
            "\n",
            "حتم…\n"
          ]
        }
      ],
      "source": [
        "vocab_size = len(tokenizer.word_index) + 1  # Adding 1 because of reserved 0 index\n",
        "\n",
        "print(X_train_sequences[2])\n",
        "print(X_train[2])"
      ]
    },
    {
      "cell_type": "code",
      "execution_count": 57,
      "id": "d8d1cafd",
      "metadata": {
        "colab": {
          "base_uri": "https://localhost:8080/"
        },
        "id": "d8d1cafd",
        "outputId": "fbbbab84-2c34-4789-9fb5-1adaf638ac8a"
      },
      "outputs": [
        {
          "output_type": "stream",
          "name": "stdout",
          "text": [
            "[   3 2687 2688  125 2689  188  471    2   34 2690 2691 2692 2693 1521\n",
            "    7 2694  224 1522 2695 2696 2697  535    0    0    0]\n"
          ]
        }
      ],
      "source": [
        "from keras.preprocessing.sequence import pad_sequences\n",
        "\n",
        "#maxlen = 25\n",
        "\n",
        "maxlen = 25\n",
        "\n",
        "\n",
        "\n",
        "X_train_pad = pad_sequences(X_train_sequences, padding='post', maxlen=maxlen)\n",
        "X_test_pad = pad_sequences(X_test_sequences, padding='post', maxlen=maxlen)\n",
        "\n",
        "print(X_train_pad[0, :])"
      ]
    },
    {
      "cell_type": "code",
      "execution_count": 58,
      "id": "9cc0e0a9",
      "metadata": {
        "colab": {
          "base_uri": "https://localhost:8080/"
        },
        "id": "9cc0e0a9",
        "outputId": "b519720b-ce4f-4352-c903-11eacda8e699"
      },
      "outputs": [
        {
          "output_type": "stream",
          "name": "stdout",
          "text": [
            "Model: \"sequential\"\n",
            "_________________________________________________________________\n",
            " Layer (type)                Output Shape              Param #   \n",
            "=================================================================\n",
            " embedding (Embedding)       (None, 25, 500)           4709500   \n",
            "                                                                 \n",
            " global_max_pooling1d (Globa  (None, 500)              0         \n",
            " lMaxPooling1D)                                                  \n",
            "                                                                 \n",
            " dense (Dense)               (None, 10)                5010      \n",
            "                                                                 \n",
            " dense_1 (Dense)             (None, 3)                 33        \n",
            "                                                                 \n",
            "=================================================================\n",
            "Total params: 4,714,543\n",
            "Trainable params: 4,714,543\n",
            "Non-trainable params: 0\n",
            "_________________________________________________________________\n"
          ]
        }
      ],
      "source": [
        "embedding_dim = 500\n",
        "\n",
        "model = Sequential()\n",
        "model.add(layers.Embedding(input_dim=vocab_size, \n",
        "                           output_dim=embedding_dim, \n",
        "                           input_length=maxlen))\n",
        "model.add(layers.GlobalMaxPool1D())\n",
        "model.add(layers.Dense(10, activation='relu'))\n",
        "model.add(layers.Dense(3, activation='sigmoid'))\n",
        "model.compile(optimizer='adam',\n",
        "              loss='sparse_categorical_crossentropy',\n",
        "              metrics=['accuracy'])\n",
        "model.summary()"
      ]
    },
    {
      "cell_type": "code",
      "execution_count": 59,
      "id": "b98588ef",
      "metadata": {
        "id": "b98588ef"
      },
      "outputs": [],
      "source": [
        "def plot_history(history):\n",
        "    acc = history.history['accuracy']\n",
        "    val_acc = history.history['val_accuracy']\n",
        "    loss = history.history['loss']\n",
        "    val_loss = history.history['val_loss']\n",
        "    x = range(1, len(acc) + 1)\n",
        "\n",
        "    plt.figure(figsize=(12, 5))\n",
        "    plt.subplot(1, 2, 1)\n",
        "    plt.plot(x, acc, 'b', label='Training acc')\n",
        "    plt.plot(x, val_acc, 'r', label='Validation acc')\n",
        "    plt.title('Training and validation accuracy')\n",
        "    plt.legend()\n",
        "    plt.subplot(1, 2, 2)\n",
        "    plt.plot(x, loss, 'b', label='Training loss')\n",
        "    plt.plot(x, val_loss, 'r', label='Validation loss')\n",
        "    plt.title('Training and validation loss')\n",
        "    plt.legend()"
      ]
    },
    {
      "cell_type": "code",
      "source": [
        "history = model.fit(X_train_pad, \n",
        "                    y_train,epochs=50,\n",
        "                    verbose=False,\n",
        "                    validation_data=(X_test_pad, y_test),\n",
        "                    batch_size=50)\n",
        "loss, accuracy = model.evaluate(X_train_pad, y_train, verbose=False)\n",
        "print(\"Training Accuracy: {:.4f}\".format(accuracy))\n",
        "loss, accuracy = model.evaluate(X_test_pad, y_test, verbose=False)\n",
        "print(\"Testing Accuracy:  {:.4f}\".format(accuracy))\n",
        "plot_history(history)"
      ],
      "metadata": {
        "colab": {
          "base_uri": "https://localhost:8080/",
          "height": 370
        },
        "id": "mJMLjNNzHse-",
        "outputId": "c78a2566-5856-4285-bfd7-49d5854f6def"
      },
      "id": "mJMLjNNzHse-",
      "execution_count": 60,
      "outputs": [
        {
          "output_type": "stream",
          "name": "stdout",
          "text": [
            "Training Accuracy: 0.9985\n",
            "Testing Accuracy:  0.8502\n"
          ]
        },
        {
          "output_type": "display_data",
          "data": {
            "image/png": "[encoded data removed]",
            "text/plain": [
              "<Figure size 864x360 with 2 Axes>"
            ]
          },
          "metadata": {
            "needs_background": "light"
          }
        }
      ]
    },
    {
      "cell_type": "code",
      "source": [
        "import numpy as np\n",
        "from sklearn.metrics import classification_report, confusion_matrix, accuracy_score\n",
        "\n",
        "#ynew = model.predict_classes(X_test)\n",
        "\n",
        "predict_x=model.predict(X_test_pad) \n",
        "classes_x=np.argmax(predict_x,axis=1)\n",
        "\n",
        "print(confusion_matrix(y_test,classes_x))\n",
        "print(classification_report(y_test,classes_x))\n",
        "print(accuracy_score(y_test, classes_x))"
      ],
      "metadata": {
        "colab": {
          "base_uri": "https://localhost:8080/"
        },
        "id": "jd6blpzhHvQJ",
        "outputId": "4be643f2-d723-4092-b3cb-0e170847c6ad"
      },
      "id": "jd6blpzhHvQJ",
      "execution_count": 62,
      "outputs": [
        {
          "output_type": "stream",
          "name": "stdout",
          "text": [
            "[[ 59   5  10]\n",
            " [  2 123  13]\n",
            " [  6  13  96]]\n",
            "              precision    recall  f1-score   support\n",
            "\n",
            "           0       0.88      0.80      0.84        74\n",
            "           1       0.87      0.89      0.88       138\n",
            "           2       0.81      0.83      0.82       115\n",
            "\n",
            "    accuracy                           0.85       327\n",
            "   macro avg       0.85      0.84      0.85       327\n",
            "weighted avg       0.85      0.85      0.85       327\n",
            "\n",
            "0.8501529051987767\n"
          ]
        }
      ]
    },
    {
      "cell_type": "markdown",
      "source": [
        "## Comparison Table for Models without Text Cleaning"
      ],
      "metadata": {
        "id": "AmhI1aFfPisp"
      },
      "id": "AmhI1aFfPisp"
    },
    {
      "cell_type": "markdown",
      "source": [
        "| classifier | Accuracy | Precision | Recall | F1 score |\n",
        "| --- | --- | --- | --- | --- |\n",
        "| Logistic Regression | 0.85 |  0.85 | 0.84 | 0.85 |\n",
        "| Logistic Regression & ngram| 0.87 |  0.87 | 0.85 | 0.86 |\n",
        "| Logistic Regression & TF-IDF| 0.82 |  0.85 | 0.80 | 0.81 |\n",
        "| Logistic Regression & TF-IDF & ngram| 0.81 |  0.85 | 0.79 | 0.80 |\n",
        "| Multinomial Naive Bayes| 0.81 |  0.84 | 0.79 | 0.80 |\n",
        "| Multinomial Naive Bayes & ngram| 0.81 |  0.85 | 0.79 | 0.81 |\n",
        "| Multinomial Naive Bayes & TF-IDF | 0.76 |  0.85 | 0.73 | 0.75 |\n",
        "| Multinomial Naive Bayes & TF-IDF & ngram| 0.76 |  0.86 | 0.72 | 0.75 |\n",
        "| Decision Tree| 0.79 |  0.79 | 0.77 | 0.78 |\n",
        "| Decision Tree & ngram| 0.76 |  0.75 | 0.76 | 0.75 |\n",
        "| Decision Tree & TF-IDF| 0.67 |  0.70 | 0.66 | 0.66 |\n",
        "| Decision Tree & TF-IDF & ngram| 0.70 |  0.72 | 0.71 | 0.70 |\n",
        "| K Neighbors| 0.61 |  0.61 | 0.63 | 0.60 |\n",
        "| K Neighbors & ngram| 0.60 |  0.60 | 0.61 | 0.60 |\n",
        "| K Neighbors & TF-IDF | 0.75 |  0.75 | 0.73 | 0.73 |\n",
        "| K Neighbors & TF-IDF & ngram| 0.77 |  0.78 | 0.76 | 0.76 |\n",
        "| SVM | 0.82 |  0.83 | 0.80 | 0.81 |\n",
        "| SVM & ngram | 0.80 |  0.79 | 0.80 | 0.80 |\n",
        "| SVM & TF-IDF | 0.83 |  0.87 | 0.80 | 0.82 |\n",
        "| SVM & TF-IDF & ngram| 0.82 |  0.87 | 0.79 | 0.81 |\n",
        "| Deep Learning & Word Embeddings | 0.85 |  0.84 | 0.84 | 0.85 |"
      ],
      "metadata": {
        "id": "HFdkm2rbLRqf"
      },
      "id": "HFdkm2rbLRqf"
    },
    {
      "cell_type": "code",
      "source": [
        ""
      ],
      "metadata": {
        "id": "zq5sFj-nPbLv"
      },
      "id": "zq5sFj-nPbLv",
      "execution_count": null,
      "outputs": []
    }
  ],
  "metadata": {
    "kernelspec": {
      "display_name": "Python 3 (ipykernel)",
      "language": "python",
      "name": "python3"
    },
    "language_info": {
      "codemirror_mode": {
        "name": "ipython",
        "version": 3
      },
      "file_extension": ".py",
      "mimetype": "text/x-python",
      "name": "python",
      "nbconvert_exporter": "python",
      "pygments_lexer": "ipython3",
      "version": "3.7.11"
    },
    "colab": {
      "name": "Classification_without_text_cleaning.ipynb",
      "provenance": []
    }
  },
  "nbformat": 4,
  "nbformat_minor": 5
}